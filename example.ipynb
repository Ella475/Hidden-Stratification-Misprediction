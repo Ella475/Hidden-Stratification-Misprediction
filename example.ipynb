{
 "cells": [
  {
   "cell_type": "markdown",
   "metadata": {},
   "source": [
    "# Introduction\n",
    "In this project I researched the affect of subclass imbalance on model mispredictions.\n",
    "In the phenomena, also called Hidden Stratification,  the class of data is composed of multiple subclasses,\n",
    "each with a slightly different distribution.\n",
    "When the subclasses are not balanced, the model will be biased towards the majority subclass,\n",
    "and will mispredict the minority subclass."
   ]
  },
  {
   "cell_type": "markdown",
   "metadata": {},
   "source": [
    "# Data\n",
    "The data used in this project is:\n",
    "1. The [Adult Census Income](https://archive.ics.uci.edu/ml/datasets/Adult) dataset.\n",
    "2. The [Bank Marketing](https://archive.ics.uci.edu/ml/datasets/Bank+Marketing) dataset.\n",
    "3. The [Heart Disease](https://archive.ics.uci.edu/ml/datasets/Heart+Disease) dataset.\n",
    "4. The [German Credit](https://archive.ics.uci.edu/ml/datasets/Statlog+%28German+Credit+Data%29) dataset.\n"
   ]
  },
  {
   "cell_type": "markdown",
   "metadata": {},
   "source": [
    "# imports"
   ]
  },
  {
   "cell_type": "code",
   "execution_count": 1,
   "metadata": {},
   "outputs": [],
   "source": [
    "%matplotlib inline\n",
    "\n",
    "from configs.expriment_config import DatasetNames, InputMode, ClusteringMethods, EvaluationMethods, Config\n",
    "from plots.plot_results import plot_classes_exp_results\n",
    "from plotter import get_plots_path, show_images, get_available_experiments\n",
    "from runner import run_exp\n",
    "from training.train_model import main"
   ]
  },
  {
   "cell_type": "markdown",
   "metadata": {},
   "source": [
    "I test the clustering in 2 different spaces:\n",
    "1. The input space - The data after it was preprocessed.\n",
    "2. The feature space - The data after it was passed through a trained model.\n",
    "\n",
    "To do this I train a model on the entire train set.\n"
   ]
  },
  {
   "cell_type": "code",
   "execution_count": null,
   "metadata": {},
   "outputs": [],
   "source": [
    "# [DatasetNames.ADULT, DatasetNames.BANK, DatasetNames.HEART, DatasetNames.CREDIT]\n",
    "dataset_name = DatasetNames.ADULT\n",
    "main(dataset_name)"
   ]
  },
  {
   "cell_type": "markdown",
   "metadata": {},
   "source": [
    "### A sample of code to run an experiment."
   ]
  },
  {
   "cell_type": "markdown",
   "metadata": {},
   "source": [
    "The experiment can be stopped after the clustering, of perform training\n",
    "on the train data with different balancing of the cluster, to show the effect of the cluster\n",
    "imbalance on the model performance.<br/>\n",
    "\n",
    "Choose the clustering space: [InputMode.FEATURES, InputMode.INPUTS]<br/>\n",
    "Choose the dataset: [DatasetNames.ADULT, DatasetNames.BANK, DatasetNames.HEART, DatasetNames.CREDIT]<br/>\n",
    "Choose the clustering method:<br/>\n",
    "[ClusteringMethods.DBSCAN, ClusteringMethods.KMEANS, ClusteringMethods.BIRCH,\n",
    "ClusteringMethods.OPTICS, ClusteringMethods.GAUSSIANMIXTURE]<br/>\n",
    "Choose the evaluation method: [EvaluationMethods.PRECISION, EvaluationMethods.RECALL, EvaluationMethods.F1]\n",
    "\n",
    "To stop the experiment after the clustering, set stop_after_clustering = True.\n",
    "\n",
    "The experiment name is created from the parameters and must be unique for each experiment.<br/>\n",
    "To run the same experiment again, change the experiment name."
   ]
  },
  {
   "cell_type": "code",
   "execution_count": null,
   "metadata": {},
   "outputs": [],
   "source": [
    "input_mode = InputMode.FEATURES\n",
    "dataset_name = DatasetNames.ADULT\n",
    "clustering_method = ClusteringMethods.KMEANS\n",
    "eval_method = EvaluationMethods.PRECISION\n",
    "stop_after_clustering = False\n",
    "\n",
    "experiment_name = f'{dataset_name.get_value()}_{input_mode.get_value()}_{clustering_method.get_value()}_{eval_method.get_value()}{\"_only_cluster\" if stop_after_clustering else \"\"}'\n",
    "print(f'Running experiment: {experiment_name}')\n",
    "config = Config(experiment_name=experiment_name,\n",
    "                input_mode=input_mode,\n",
    "                dataset_name=dataset_name,\n",
    "                clustering_method=clustering_method,\n",
    "                eval_method=eval_method,\n",
    "                stop_after_clustering=stop_after_clustering)\n",
    "try:\n",
    "    run_exp(config)        \n",
    "except Exception as e:\n",
    "    print(e)"
   ]
  },
  {
   "cell_type": "markdown",
   "metadata": {},
   "source": [
    "After the experiment is done, running the plot code will save plots of the results and show them.<br/>\n",
    "An experiment that did not run this function is not complete, and the plots won't be diplayed."
   ]
  },
  {
   "cell_type": "code",
   "execution_count": null,
   "metadata": {},
   "outputs": [],
   "source": [
    "plot_classes_exp_results(config)"
   ]
  },
  {
   "cell_type": "markdown",
   "metadata": {},
   "source": [
    "Available experiments:"
   ]
  },
  {
   "cell_type": "code",
   "execution_count": 2,
   "metadata": {},
   "outputs": [
    {
     "name": "stdout",
     "output_type": "stream",
     "text": [
      "['.gitke', 'adult_features_kmeans_precision']\n"
     ]
    }
   ],
   "source": [
    "experiments = get_available_experiments()\n",
    "print(experiments)"
   ]
  },
  {
   "cell_type": "markdown",
   "source": [],
   "metadata": {
    "collapsed": false
   }
  },
  {
   "cell_type": "markdown",
   "metadata": {},
   "source": [
    "set the experiment name to the name of the experiment you want to plot."
   ]
  },
  {
   "cell_type": "code",
   "execution_count": 10,
   "metadata": {},
   "outputs": [],
   "source": [
    "experiment_name = 'adult_features_kmeans_precision' # change this to the name of the experiment you want to plot"
   ]
  },
  {
   "cell_type": "markdown",
   "metadata": {},
   "source": [
    "Choose which class results to plot: [0 / 1]\n"
   ]
  },
  {
   "cell_type": "code",
   "execution_count": 11,
   "metadata": {},
   "outputs": [],
   "source": [
    "class_num = 1 # change this to the class you want to plot"
   ]
  },
  {
   "cell_type": "markdown",
   "metadata": {},
   "source": [
    "There are 3 plots for each class in the experiment (2 if stop_after_clustering = True):\n",
    "1. The cluster sizes and divergence plot - Shows the divergence of each cluster\n",
    "performance from the performance of the model on the entire class - both in the train and test sets.\n",
    "2. The cluster t-SNE plot - Shows the t-SNE projection of the data in the clusters in the clustering space.\n",
    "3. The cluster imbalance plot - after performing training on the train data with different balancing of the cluster,\n",
    "shows the effect of the cluster imbalance on the model performance."
   ]
  },
  {
   "cell_type": "code",
   "execution_count": 13,
   "metadata": {},
   "outputs": [
    {
     "name": "stdout",
     "output_type": "stream",
     "text": [
      "[WindowsPath('results/plots/tsne/adult_features_kmeans_precision_1.svg'), WindowsPath('results/plots/divergence_plot/adult_features_kmeans_precision_1.svg'), WindowsPath('results/plots/imbalance_plot/adult_features_kmeans_precision_1.svg')]\n"
     ]
    },
    {
     "ename": "UnidentifiedImageError",
     "evalue": "cannot identify image file 'C:\\\\Users\\\\ariel\\\\Documents\\\\Python Scripts\\\\Ella\\\\TDS\\\\results\\\\plots\\\\tsne\\\\adult_features_kmeans_precision_1.svg'",
     "output_type": "error",
     "traceback": [
      "\u001B[1;31m---------------------------------------------------------------------------\u001B[0m",
      "\u001B[1;31mUnidentifiedImageError\u001B[0m                    Traceback (most recent call last)",
      "\u001B[1;32m<ipython-input-13-004ade1416ac>\u001B[0m in \u001B[0;36m<module>\u001B[1;34m\u001B[0m\n\u001B[0;32m      1\u001B[0m \u001B[0mimg_paths\u001B[0m \u001B[1;33m=\u001B[0m \u001B[0mget_plots_path\u001B[0m\u001B[1;33m(\u001B[0m\u001B[0mexperiment_name\u001B[0m\u001B[1;33m,\u001B[0m \u001B[0mclass_num\u001B[0m\u001B[1;33m)\u001B[0m\u001B[1;33m\u001B[0m\u001B[1;33m\u001B[0m\u001B[0m\n\u001B[0;32m      2\u001B[0m \u001B[0mprint\u001B[0m\u001B[1;33m(\u001B[0m\u001B[0mimg_paths\u001B[0m\u001B[1;33m)\u001B[0m\u001B[1;33m\u001B[0m\u001B[1;33m\u001B[0m\u001B[0m\n\u001B[1;32m----> 3\u001B[1;33m \u001B[0mshow_images\u001B[0m\u001B[1;33m(\u001B[0m\u001B[0mimg_paths\u001B[0m\u001B[1;33m)\u001B[0m\u001B[1;33m\u001B[0m\u001B[1;33m\u001B[0m\u001B[0m\n\u001B[0m",
      "\u001B[1;32m~\\Documents\\Python Scripts\\Ella\\TDS\\plotter.py\u001B[0m in \u001B[0;36mshow_images\u001B[1;34m(img_paths)\u001B[0m\n\u001B[0;32m     10\u001B[0m     \u001B[1;32mfor\u001B[0m \u001B[0mimg_path\u001B[0m \u001B[1;32min\u001B[0m \u001B[0mimg_paths\u001B[0m\u001B[1;33m:\u001B[0m\u001B[1;33m\u001B[0m\u001B[1;33m\u001B[0m\u001B[0m\n\u001B[0;32m     11\u001B[0m         \u001B[0mplt\u001B[0m\u001B[1;33m.\u001B[0m\u001B[0mfigure\u001B[0m\u001B[1;33m(\u001B[0m\u001B[1;33m)\u001B[0m\u001B[1;33m\u001B[0m\u001B[1;33m\u001B[0m\u001B[0m\n\u001B[1;32m---> 12\u001B[1;33m         \u001B[0mimg\u001B[0m \u001B[1;33m=\u001B[0m \u001B[0mmpimg\u001B[0m\u001B[1;33m.\u001B[0m\u001B[0mimread\u001B[0m\u001B[1;33m(\u001B[0m\u001B[0mimg_path\u001B[0m\u001B[1;33m)\u001B[0m\u001B[1;33m\u001B[0m\u001B[1;33m\u001B[0m\u001B[0m\n\u001B[0m\u001B[0;32m     13\u001B[0m         \u001B[0mplt\u001B[0m\u001B[1;33m.\u001B[0m\u001B[0mimshow\u001B[0m\u001B[1;33m(\u001B[0m\u001B[0mimg\u001B[0m\u001B[1;33m)\u001B[0m\u001B[1;33m\u001B[0m\u001B[1;33m\u001B[0m\u001B[0m\n\u001B[0;32m     14\u001B[0m \u001B[1;33m\u001B[0m\u001B[0m\n",
      "\u001B[1;32m~\\anaconda3\\lib\\site-packages\\matplotlib\\image.py\u001B[0m in \u001B[0;36mimread\u001B[1;34m(fname, format)\u001B[0m\n\u001B[0;32m   1559\u001B[0m             \u001B[1;34m\"``np.array(PIL.Image.open(urllib.request.urlopen(url)))``.\"\u001B[0m\u001B[1;33m\u001B[0m\u001B[1;33m\u001B[0m\u001B[0m\n\u001B[0;32m   1560\u001B[0m             )\n\u001B[1;32m-> 1561\u001B[1;33m     \u001B[1;32mwith\u001B[0m \u001B[0mimg_open\u001B[0m\u001B[1;33m(\u001B[0m\u001B[0mfname\u001B[0m\u001B[1;33m)\u001B[0m \u001B[1;32mas\u001B[0m \u001B[0mimage\u001B[0m\u001B[1;33m:\u001B[0m\u001B[1;33m\u001B[0m\u001B[1;33m\u001B[0m\u001B[0m\n\u001B[0m\u001B[0;32m   1562\u001B[0m         return (_pil_png_to_float_array(image)\n\u001B[0;32m   1563\u001B[0m                 \u001B[1;32mif\u001B[0m \u001B[0misinstance\u001B[0m\u001B[1;33m(\u001B[0m\u001B[0mimage\u001B[0m\u001B[1;33m,\u001B[0m \u001B[0mPIL\u001B[0m\u001B[1;33m.\u001B[0m\u001B[0mPngImagePlugin\u001B[0m\u001B[1;33m.\u001B[0m\u001B[0mPngImageFile\u001B[0m\u001B[1;33m)\u001B[0m \u001B[1;32melse\u001B[0m\u001B[1;33m\u001B[0m\u001B[1;33m\u001B[0m\u001B[0m\n",
      "\u001B[1;32m~\\anaconda3\\lib\\site-packages\\PIL\\Image.py\u001B[0m in \u001B[0;36mopen\u001B[1;34m(fp, mode)\u001B[0m\n\u001B[0;32m   2928\u001B[0m     \u001B[1;32mfor\u001B[0m \u001B[0mmessage\u001B[0m \u001B[1;32min\u001B[0m \u001B[0maccept_warnings\u001B[0m\u001B[1;33m:\u001B[0m\u001B[1;33m\u001B[0m\u001B[1;33m\u001B[0m\u001B[0m\n\u001B[0;32m   2929\u001B[0m         \u001B[0mwarnings\u001B[0m\u001B[1;33m.\u001B[0m\u001B[0mwarn\u001B[0m\u001B[1;33m(\u001B[0m\u001B[0mmessage\u001B[0m\u001B[1;33m)\u001B[0m\u001B[1;33m\u001B[0m\u001B[1;33m\u001B[0m\u001B[0m\n\u001B[1;32m-> 2930\u001B[1;33m     raise UnidentifiedImageError(\n\u001B[0m\u001B[0;32m   2931\u001B[0m         \u001B[1;34m\"cannot identify image file %r\"\u001B[0m \u001B[1;33m%\u001B[0m \u001B[1;33m(\u001B[0m\u001B[0mfilename\u001B[0m \u001B[1;32mif\u001B[0m \u001B[0mfilename\u001B[0m \u001B[1;32melse\u001B[0m \u001B[0mfp\u001B[0m\u001B[1;33m)\u001B[0m\u001B[1;33m\u001B[0m\u001B[1;33m\u001B[0m\u001B[0m\n\u001B[0;32m   2932\u001B[0m     )\n",
      "\u001B[1;31mUnidentifiedImageError\u001B[0m: cannot identify image file 'C:\\\\Users\\\\ariel\\\\Documents\\\\Python Scripts\\\\Ella\\\\TDS\\\\results\\\\plots\\\\tsne\\\\adult_features_kmeans_precision_1.svg'"
     ]
    },
    {
     "data": {
      "text/plain": "<Figure size 432x288 with 0 Axes>"
     },
     "metadata": {},
     "output_type": "display_data"
    }
   ],
   "source": [
    "img_paths = get_plots_path(experiment_name, class_num)\n",
    "print(img_paths)\n",
    "show_images(img_paths)"
   ]
  },
  {
   "cell_type": "code",
   "execution_count": null,
   "metadata": {},
   "outputs": [],
   "source": []
  }
 ],
 "metadata": {
  "kernelspec": {
   "display_name": "venv",
   "language": "python",
   "name": "venv"
  },
  "language_info": {
   "codemirror_mode": {
    "name": "ipython",
    "version": 3
   },
   "file_extension": ".py",
   "mimetype": "text/x-python",
   "name": "python",
   "nbconvert_exporter": "python",
   "pygments_lexer": "ipython3",
   "version": "3.8.3"
  }
 },
 "nbformat": 4,
 "nbformat_minor": 4
}
