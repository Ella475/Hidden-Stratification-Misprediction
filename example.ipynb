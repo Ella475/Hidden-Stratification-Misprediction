{
 "cells": [
  {
   "cell_type": "markdown",
   "metadata": {
    "pycharm": {
     "name": "#%% md\n"
    }
   },
   "source": [
    "# Introduction\n",
    "In this project I researched the affect of subclass imbalance on model mispredictions.\n",
    "The phenomena, also called Hidden Stratification,  the a class of data is composed of multiple subclasses,\n",
    "each with a slightly different distribution.\n",
    "When the subclasses are not balanced, the model will be biased towards the majority subclass,\n",
    "and will mispredict the minority subclass."
   ]
  },
  {
   "cell_type": "markdown",
   "source": [
    "# Data\n",
    "The data used in this project is:\n",
    "1. The [Adult Census Income](https://archive.ics.uci.edu/ml/datasets/Adult) dataset.\n",
    "2. The [Bank Marketing](https://archive.ics.uci.edu/ml/datasets/Bank+Marketing) dataset.\n",
    "3. The [Heart Disease](https://archive.ics.uci.edu/ml/datasets/Heart+Disease) dataset.\n",
    "4. The [German Credit](https://archive.ics.uci.edu/ml/datasets/Statlog+%28German+Credit+Data%29) dataset.\n"
   ],
   "metadata": {
    "collapsed": false
   }
  },
  {
   "cell_type": "markdown",
   "source": [
    "# imports"
   ],
   "metadata": {
    "collapsed": false
   }
  },
  {
   "cell_type": "code",
   "execution_count": null,
   "outputs": [],
   "source": [
    "from configs.expriment_config import DatasetNames, InputMode, ClusteringMethods, EvaluationMethods, Config\n",
    "from plots.plot_results import plot_classes_exp_results\n",
    "from plotter import get_plots_path, show_pngs\n",
    "from runner import run_exp\n",
    "from training.train_model import main"
   ],
   "metadata": {
    "collapsed": false,
    "pycharm": {
     "name": "#%%\n"
    }
   }
  },
  {
   "cell_type": "markdown",
   "source": [
    "I test the clustering in 2 different spaces:\n",
    "1. The input space - of the data after it was preprocessed.\n",
    "2. The feature space - of the data after it was passed through a trained model.\n",
    "\n",
    "To do this I train a model on the entire train set.\n"
   ],
   "metadata": {
    "collapsed": false
   }
  },
  {
   "cell_type": "code",
   "execution_count": null,
   "outputs": [],
   "source": [
    "# [DatasetNames.ADULT, DatasetNames.BANK, DatasetNames.HEART, DatasetNames.CREDIT]\n",
    "dataset_name = DatasetNames.ADULT\n",
    "main(dataset_name)"
   ],
   "metadata": {
    "collapsed": false,
    "pycharm": {
     "name": "#%%\n"
    }
   }
  },
  {
   "cell_type": "markdown",
   "source": [
    "A sample of code to run an experiment.\n",
    "The experiment can be stopped after the clustering, of perform training\n",
    "on the train data with different balancing of the cluster, to show the effect of the cluster\n",
    "imbalance on the model performance.\n",
    "After the experiment is done, running the plot code will save plots of the results.\n",
    "\n",
    "To run the experiment, set run = True.\n",
    "To save plots of the results, set plot = True.\n",
    "\n",
    "Choose the clustering space: [InputMode.FEATURES, InputMode.INPUT]\n",
    "Choose the dataset: [DatasetNames.ADULT, DatasetNames.BANK, DatasetNames.HEART, DatasetNames.CREDIT]\n",
    "Choose the clustering method:\n",
    "[ClusteringMethods.DBSCAN, ClusteringMethods.KMEANS, ClusteringMethods.BIRCH,\n",
    "ClusteringMethods.OPTICS, ClusteringMethods.GAUSSIANMIXTURE]\n",
    "Choose the evaluation method: [EvaluationMethods.PRECISION, EvaluationMethods.RECALL, EvaluationMethods.F1]\n",
    "\n",
    "To stop the experiment after the clustering, set stop_after_clustering = True.\n",
    "\n",
    "The experiment name is created from the parameters and must be unique for each experiment.\n",
    "To run the same experiment again, change the experiment name."
   ],
   "metadata": {
    "collapsed": false
   }
  },
  {
   "cell_type": "code",
   "execution_count": null,
   "outputs": [],
   "source": [
    "run = True\n",
    "plot = True\n",
    "\n",
    "input_mode = InputMode.FEATURES\n",
    "dataset_name = DatasetNames.ADULT\n",
    "clustering_method = ClusteringMethods.DBSCAN\n",
    "eval_method = EvaluationMethods.PRECISION\n",
    "stop_after_clustering = False\n",
    "\n",
    "experiment_name = f'{dataset_name.get_value()}_{input_mode.get_value()}_{clustering_method.get_value()}_{eval_method.get_value()}{\"_only_cluster\" if stop_after_clustering else \"\"}'\n",
    "print(f'Running experiment: {experiment_name}')\n",
    "config = Config(experiment_name=experiment_name,\n",
    "                input_mode=input_mode,\n",
    "                dataset_name=dataset_name,\n",
    "                clustering_method=clustering_method,\n",
    "                eval_method=eval_method,\n",
    "                stop_after_clustering=stop_after_clustering)\n",
    "\n",
    "if run:\n",
    "    run_exp(config)\n",
    "if plot:\n",
    "    plot_classes_exp_results(config)"
   ],
   "metadata": {
    "collapsed": false,
    "pycharm": {
     "name": "#%%\n"
    }
   }
  },
  {
   "cell_type": "markdown",
   "source": [
    "set the experiment name to the name of the experiment you want to plot."
   ],
   "metadata": {
    "collapsed": false
   }
  },
  {
   "cell_type": "code",
   "execution_count": null,
   "outputs": [],
   "source": [
    "experiment_name = 'adult_features_dbscan_precision' # change this to the name of the experiment you want to plot\n"
   ],
   "metadata": {
    "collapsed": false,
    "pycharm": {
     "name": "#%%\n"
    }
   }
  },
  {
   "cell_type": "markdown",
   "source": [
    "Choose which class results to plot: [0 / 1]\n"
   ],
   "metadata": {
    "collapsed": false
   }
  },
  {
   "cell_type": "code",
   "execution_count": null,
   "outputs": [],
   "source": [
    "class_num = 0 # change this to the class you want to plot"
   ],
   "metadata": {
    "collapsed": false,
    "pycharm": {
     "name": "#%%\n"
    }
   }
  },
  {
   "cell_type": "markdown",
   "source": [
    "There are 3 plots for each class in the experiment (2 if stop_after_clustering = True):\n",
    "1. The cluster sizes and divergence plot - Shows the divergence of each cluster\n",
    "performance from the performance of the model on the entire class - both in the train and test sets.\n",
    "2. The cluster t-SNE plot - Shows the t-SNE projection of the data in the clusters in the clustering space.\n",
    "3. The cluster imbalance plot - after performing training on the train data with different balancing of the cluster,\n",
    "shows the effect of the cluster imbalance on the model performance."
   ],
   "metadata": {
    "collapsed": false
   }
  },
  {
   "cell_type": "code",
   "execution_count": null,
   "outputs": [],
   "source": [
    "png_paths = get_plots_path(experiment_name, class_num)\n",
    "show_pngs(png_paths)"
   ],
   "metadata": {
    "collapsed": false,
    "pycharm": {
     "name": "#%%\n"
    }
   }
  }
 ],
 "metadata": {
  "kernelspec": {
   "display_name": "venv",
   "language": "python",
   "name": "venv"
  },
  "language_info": {
   "codemirror_mode": {
    "name": "ipython",
    "version": 3
   },
   "file_extension": ".py",
   "mimetype": "text/x-python",
   "name": "python",
   "nbconvert_exporter": "python",
   "pygments_lexer": "ipython3",
   "version": "3.8.3"
  }
 },
 "nbformat": 4,
 "nbformat_minor": 4
}